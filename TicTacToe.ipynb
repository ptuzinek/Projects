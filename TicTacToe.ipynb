{
 "cells": [
  {
   "cell_type": "markdown",
   "metadata": {},
   "source": [
    "## Tic Tac Toe Game\n",
    "Choose the character and place it on the board.\n",
    "\n",
    "3 same characters in the row wins the game.\n",
    "\n",
    "Position on the game board corresponds with the numpad on the computer keyboard"
   ]
  },
  {
   "cell_type": "code",
   "execution_count": 1,
   "metadata": {},
   "outputs": [],
   "source": [
    "from IPython.display import clear_output\n",
    "\n",
    "def display_board(board):\n",
    "    board = [board[0],board[1],board[2],board[3],board[4],board[5],board[6],board[7],board[8],board[9]]    \n",
    "    \n",
    "    print('\\n')\n",
    "    print(board[7],' | ',board[8],' | ',board[9])\n",
    "    print('-------------')\n",
    "    print(board[4],' | ',board[5],' | ',board[6])\n",
    "    print('-------------')\n",
    "    print(board[1],' | ',board[2],' | ',board[3])\n",
    "    print('\\n')\n",
    "    "
   ]
  },
  {
   "cell_type": "code",
   "execution_count": 2,
   "metadata": {},
   "outputs": [],
   "source": [
    "def player_input():\n",
    "    while True:\n",
    "        player1 = input(\"Please pick a marker 'X' or 'O'\")\n",
    "        print(player1)\n",
    "        if player1 ==('X'):\n",
    "            break\n",
    "        elif player1=='O':\n",
    "            break\n",
    "        else:\n",
    "            continue\n",
    "    return player1"
   ]
  },
  {
   "cell_type": "code",
   "execution_count": 3,
   "metadata": {},
   "outputs": [],
   "source": [
    "def place_marker(board, marker, position):\n",
    "    while True:\n",
    "        if position == 1 or 2 or 3 or 4 or 5 or 6 or 7 or 8 or 9:\n",
    "            break\n",
    "        else:\n",
    "            continue\n",
    "    board[position] = marker"
   ]
  },
  {
   "cell_type": "code",
   "execution_count": 4,
   "metadata": {},
   "outputs": [],
   "source": [
    "def clear(board):\n",
    "    board[0], board[1], board[2], board[3] ,board[4] ,board[5] ,board[6] ,board[7] ,board[8], board[9] = ' ',' ',' ',' ',' ',' ',' ',' ',' ',' ' "
   ]
  },
  {
   "cell_type": "code",
   "execution_count": 5,
   "metadata": {},
   "outputs": [],
   "source": [
    "def win_check(board):\n",
    "    if ((board[1],board[2],board[3])==('X', 'X', 'X')) or ((board[4],board[5],board[6])==('X', 'X', 'X')) or ((board[7],board[8],board[9])==('X', 'X', 'X')) or ((board[1],board[5],board[9])==('X', 'X', 'X')) or ((board[3],board[5],board[7])==('X', 'X', 'X')) or ((board[7],board[4],board[1])==('X', 'X', 'X')) or ((board[8],board[5],board[2])==('X', 'X', 'X')) or ((board[9],board[6],board[3])==('X', 'X', 'X')):\n",
    "        print('X WON!')\n",
    "        return True\n",
    "    elif ((board[1],board[2],board[3])==('O', 'O', 'O')) or ((board[4],board[5],board[6])==('O', 'O', 'O')) or ((board[7],board[8],board[9])==('O', 'O', 'O')) or ((board[1],board[5],board[9])==('O', 'O', 'O')) or ((board[3],board[5],board[7])==('O', 'O', 'O')) or ((board[7],board[4],board[1])==('O', 'O', 'O')) or ((board[8],board[5],board[2])==('O', 'O', 'O')) or ((board[9],board[6],board[3])==('O', 'O', 'O')):\n",
    "        print('O WON!')\n",
    "        return True\n",
    "        "
   ]
  },
  {
   "cell_type": "code",
   "execution_count": 6,
   "metadata": {},
   "outputs": [],
   "source": [
    "def space_check(board, position):\n",
    "    if board[position]==' ':\n",
    "        return True\n",
    "    else:\n",
    "        return False\n"
   ]
  },
  {
   "cell_type": "code",
   "execution_count": 7,
   "metadata": {},
   "outputs": [],
   "source": [
    "def full_board_check(board):\n",
    "    if ((board[1]!=' ') and (board[2]!=' ') and (board[3]!=' ') and (board[4]!=' ') and (board[5]!=' ') and (board[6]!=' ') and (board[7]!=' ') and (board[8]!=' ') and (board[9]!=' ')):\n",
    "        print('nobody won the game')\n",
    "        return True\n",
    "    else:\n",
    "        return False"
   ]
  },
  {
   "cell_type": "code",
   "execution_count": 8,
   "metadata": {},
   "outputs": [],
   "source": [
    "def input_check():\n",
    "    import string\n",
    "    \n",
    "    while True:\n",
    "        position = input('Please enter a number 1-9')\n",
    "        if position in string.ascii_lowercase:\n",
    "            print('Enter a NUMBER!')\n",
    "            continue\n",
    "        elif position in string.ascii_uppercase:\n",
    "            print('Enter a NUMBER!')\n",
    "            continue\n",
    "        else:\n",
    "            if int(position) in range(1,10):\n",
    "                position = int(position)\n",
    "                print('\\n')\n",
    "                return position\n",
    "            else:\n",
    "                print('Wrong position number, choose from 1-9 range')\n",
    "                continue\n",
    "    "
   ]
  },
  {
   "cell_type": "code",
   "execution_count": 9,
   "metadata": {},
   "outputs": [],
   "source": [
    "def player_choice(board):\n",
    "    import string\n",
    "    \n",
    "    position = input_check()\n",
    "  \n",
    "    while space_check(board, position) == False:\n",
    "        print('This position is not avaiable')\n",
    "        position =  input_check()\n",
    "    return position \n",
    "    \n",
    "    "
   ]
  },
  {
   "cell_type": "code",
   "execution_count": 10,
   "metadata": {},
   "outputs": [],
   "source": [
    "def replay():\n",
    "    again = input(\"Want to play AGAIN? 'y' or 'n'\")\n",
    "    if again == 'y':\n",
    "        return True\n",
    "    else:\n",
    "        return False"
   ]
  },
  {
   "cell_type": "code",
   "execution_count": 14,
   "metadata": {},
   "outputs": [
    {
     "name": "stdout",
     "output_type": "stream",
     "text": [
      "\n",
      "\n",
      "   |     |   \n",
      "-------------\n",
      "X  |  X  |  X\n",
      "-------------\n",
      "   |     |   \n",
      "\n",
      "\n",
      "X WON!\n",
      "Want to play AGAIN? 'y' or 'n'X\n"
     ]
    }
   ],
   "source": [
    "print('Welcome to Tic Tac Toe!')\n",
    "board = [' ',' ',' ',' ',' ',' ',' ',' ',' ',' '] \n",
    "\n",
    "while True:\n",
    "    clear(board)\n",
    "    \n",
    "    while True:\n",
    "        clear_output()\n",
    "        display_board(board)\n",
    "        \n",
    "        if win_check(board) == True:\n",
    "            break\n",
    "        if full_board_check(board) == True:\n",
    "            break\n",
    "        \n",
    "        marker = player_input()\n",
    "        position = player_choice(board)\n",
    "        place_marker(board,marker,position)\n",
    "    \n",
    "    \n",
    "    if not replay():\n",
    "        break\n",
    "    "
   ]
  },
  {
   "cell_type": "code",
   "execution_count": null,
   "metadata": {},
   "outputs": [],
   "source": []
  }
 ],
 "metadata": {
  "kernelspec": {
   "display_name": "Python 3",
   "language": "python",
   "name": "python3"
  },
  "language_info": {
   "codemirror_mode": {
    "name": "ipython",
    "version": 3
   },
   "file_extension": ".py",
   "mimetype": "text/x-python",
   "name": "python",
   "nbconvert_exporter": "python",
   "pygments_lexer": "ipython3",
   "version": "3.7.3"
  }
 },
 "nbformat": 4,
 "nbformat_minor": 2
}
