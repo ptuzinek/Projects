{
 "cells": [
  {
   "cell_type": "code",
   "execution_count": 2,
   "metadata": {},
   "outputs": [],
   "source": [
    "import numpy as np\n",
    "import matplotlib.pyplot as plt\n",
    "import tensorflow as tf\n",
    "import tensorflow_datasets as tfds"
   ]
  },
  {
   "cell_type": "code",
   "execution_count": 3,
   "metadata": {},
   "outputs": [
    {
     "name": "stderr",
     "output_type": "stream",
     "text": [
      "WARNING:absl:Warning: Setting shuffle_files=True because split=TRAIN and shuffle_files=None. This behavior will be deprecated on 2019-08-06, at which point shuffle_files=False will be the default for all splits.\n"
     ]
    }
   ],
   "source": [
    "mnist_dataset, mnist_info = tfds.load(name='mnist', with_info=True, as_supervised=True)"
   ]
  },
  {
   "cell_type": "code",
   "execution_count": 4,
   "metadata": {},
   "outputs": [],
   "source": [
    "mnist_train, mnist_test = mnist_dataset['train'], mnist_dataset['test']"
   ]
  },
  {
   "cell_type": "code",
   "execution_count": 5,
   "metadata": {},
   "outputs": [],
   "source": [
    "num_validation_samples = 0.1 * mnist_info.splits['train'].num_examples\n",
    "num_validation_samples = tf.cast(num_validation_samples, tf.int64)\n",
    "\n",
    "\n",
    "num_test_samples = mnist_info.splits['test'].num_examples\n",
    "num_test_samples = tf.cast(num_validation_samples, tf.int64)"
   ]
  },
  {
   "cell_type": "code",
   "execution_count": 6,
   "metadata": {},
   "outputs": [],
   "source": [
    "def scale(image, label):\n",
    "    image = tf.cast(image, tf.float32)\n",
    "    image /= 255.\n",
    "    return image, label"
   ]
  },
  {
   "cell_type": "code",
   "execution_count": 7,
   "metadata": {},
   "outputs": [],
   "source": [
    "scaled_train_and_validation = mnist_train.map(scale)\n",
    "test_data = mnist_test.map(scale)"
   ]
  },
  {
   "cell_type": "code",
   "execution_count": 8,
   "metadata": {},
   "outputs": [],
   "source": [
    "BUFFER_SIZE = 10000\n",
    "shuffled_train_and_validation = scaled_train_and_validation\n",
    "validation_data = shuffled_train_and_validation.take(num_validation_samples)\n",
    "train_data = shuffled_train_and_validation.skip(num_validation_samples)"
   ]
  },
  {
   "cell_type": "code",
   "execution_count": 9,
   "metadata": {},
   "outputs": [],
   "source": [
    "BATCH_SIZE = 100\n",
    "\n",
    "validation_data = validation_data.batch(BATCH_SIZE)\n",
    "train_data = train_data.batch(BATCH_SIZE)\n",
    "test_data = test_data.batch(BATCH_SIZE)\n",
    "\n",
    "validation_inputs, validation_targets = next(iter(validation_data))"
   ]
  },
  {
   "cell_type": "code",
   "execution_count": 10,
   "metadata": {},
   "outputs": [],
   "source": [
    "input_size = 784\n",
    "output_size = 10\n",
    "hidden_layer_size = 200"
   ]
  },
  {
   "cell_type": "code",
   "execution_count": 11,
   "metadata": {},
   "outputs": [],
   "source": [
    "model = tf.keras.Sequential([\n",
    "    tf.keras.layers.Flatten(input_shape = (28,28,1)),\n",
    "    tf.keras.layers.Dense(hidden_layer_size,activation = 'relu'),\n",
    "    tf.keras.layers.Dense(hidden_layer_size,activation = 'relu'),\n",
    "    tf.keras.layers.Dense(output_size, activation = 'softmax')\n",
    "])\n",
    "\n",
    "model.compile(optimazer = 'Adam', loss = 'sparse_categorical_crossentropy', metrics = ['accuracy'])"
   ]
  },
  {
   "cell_type": "code",
   "execution_count": 12,
   "metadata": {},
   "outputs": [
    {
     "name": "stdout",
     "output_type": "stream",
     "text": [
      "Epoch 1/5\n",
      "540/540 - 9s - loss: 0.2608 - accuracy: 0.9216 - val_loss: 0.0000e+00 - val_accuracy: 0.0000e+00\n",
      "Epoch 2/5\n",
      "540/540 - 7s - loss: 0.1026 - accuracy: 0.9691 - val_loss: 0.1551 - val_accuracy: 0.9833\n",
      "Epoch 3/5\n",
      "540/540 - 7s - loss: 0.0679 - accuracy: 0.9792 - val_loss: 0.1092 - val_accuracy: 0.9750\n",
      "Epoch 4/5\n",
      "540/540 - 8s - loss: 0.0508 - accuracy: 0.9847 - val_loss: 0.1137 - val_accuracy: 0.9667\n",
      "Epoch 5/5\n",
      "540/540 - 8s - loss: 0.0366 - accuracy: 0.9895 - val_loss: 0.0502 - val_accuracy: 0.9833\n"
     ]
    },
    {
     "data": {
      "text/plain": [
       "<tensorflow.python.keras.callbacks.History at 0x1df21308708>"
      ]
     },
     "execution_count": 12,
     "metadata": {},
     "output_type": "execute_result"
    }
   ],
   "source": [
    "NUM_EPOCHS = 5\n",
    "STEPS = num_validation_samples/BATCH_SIZE\n",
    "model.fit(train_data, epochs = NUM_EPOCHS, validation_data=(validation_inputs, validation_targets), validation_steps=STEPS, verbose = 2)\n",
    "        "
   ]
  },
  {
   "cell_type": "code",
   "execution_count": 13,
   "metadata": {},
   "outputs": [
    {
     "name": "stdout",
     "output_type": "stream",
     "text": [
      "100/100 [==============================]0.1390 - accuracy: 0.960 - 0s 95ms/step - loss: 0.1026 - accuracy: 0.965 - 0s 72ms/step - loss: 0.1256 - accuracy: 0.97 - 0s 60ms/step - loss: 0.1009 - accuracy: 0.97 - 0s 53ms/step - loss: 0.0953 - accuracy: 0.97 - 0s 47ms/step - loss: 0.0821 - accuracy: 0.97 - 0s 43ms/step - loss: 0.0842 - accuracy: 0.97 - 0s 41ms/step - loss: 0.0818 - accuracy: 0.97 - 0s 41ms/step - loss: 0.0784 - accuracy: 0.97 - 0s 39ms/step - loss: 0.0916 - accuracy: 0.97 - 0s 38ms/step - loss: 0.0973 - accuracy: 0.97 - 0s 37ms/step - loss: 0.0923 - accuracy: 0.97 - 0s 36ms/step - loss: 0.0998 - accuracy: 0.97 - 0s 35ms/step - loss: 0.0963 - accuracy: 0.97 - 1s 35ms/step - loss: 0.0991 - accuracy: 0.97 - 1s 34ms/step - loss: 0.0958 - accuracy: 0.97 - 1s 33ms/step - loss: 0.0988 - accuracy: 0.97 - 1s 33ms/step - loss: 0.0965 - accuracy: 0.97 - 1s 32ms/step - loss: 0.0997 - accuracy: 0.97 - 1s 32ms/step - loss: 0.0966 - accuracy: 0.97 - 1s 31ms/step - loss: 0.0973 - accuracy: 0.97 - 1s 31ms/step - loss: 0.0939 - accuracy: 0.97 - 1s 30ms/step - loss: 0.0985 - accuracy: 0.97 - 1s 29ms/step - loss: 0.1151 - accuracy: 0.96 - 1s 29ms/step - loss: 0.1134 - accuracy: 0.97 - 1s 28ms/step - loss: 0.1115 - accuracy: 0.97 - 1s 28ms/step - loss: 0.1101 - accuracy: 0.96 - 1s 28ms/step - loss: 0.1063 - accuracy: 0.97 - 1s 27ms/step - loss: 0.1039 - accuracy: 0.97 - 1s 27ms/step - loss: 0.1007 - accuracy: 0.97 - 1s 26ms/step - loss: 0.1010 - accuracy: 0.97 - 1s 26ms/step - loss: 0.0989 - accuracy: 0.97 - 1s 26ms/step - loss: 0.0986 - accuracy: 0.97 - 1s 26ms/step - loss: 0.0983 - accuracy: 0.97 - 1s 25ms/step - loss: 0.0964 - accuracy: 0.97 - 1s 25ms/step - loss: 0.0966 - accuracy: 0.97 - 1s 25ms/step - loss: 0.0982 - accuracy: 0.97 - 1s 24ms/step - loss: 0.0975 - accuracy: 0.97 - 1s 24ms/step - loss: 0.0972 - accuracy: 0.97 - 1s 24ms/step - loss: 0.0957 - accuracy: 0.97 - 1s 24ms/step - loss: 0.0948 - accuracy: 0.97 - 1s 24ms/step - loss: 0.0968 - accuracy: 0.97 - 1s 23ms/step - loss: 0.0968 - accuracy: 0.97 - 1s 23ms/step - loss: 0.0963 - accuracy: 0.97 - 1s 23ms/step - loss: 0.0954 - accuracy: 0.97 - 1s 23ms/step - loss: 0.0970 - accuracy: 0.97 - 1s 23ms/step - loss: 0.0971 - accuracy: 0.97 - 1s 23ms/step - loss: 0.0964 - accuracy: 0.97 - 1s 23ms/step - loss: 0.0960 - accuracy: 0.97 - 1s 23ms/step - loss: 0.0974 - accuracy: 0.97 - 1s 23ms/step - loss: 0.0987 - accuracy: 0.97 - 1s 23ms/step - loss: 0.1008 - accuracy: 0.97 - 1s 23ms/step - loss: 0.0990 - accuracy: 0.97 - 1s 23ms/step - loss: 0.0987 - accuracy: 0.97 - 1s 23ms/step - loss: 0.0986 - accuracy: 0.97 - 1s 22ms/step - loss: 0.0979 - accuracy: 0.97 - 1s 22ms/step - loss: 0.0984 - accuracy: 0.97 - 1s 22ms/step - loss: 0.0989 - accuracy: 0.97 - 1s 22ms/step - loss: 0.0978 - accuracy: 0.97 - 1s 22ms/step - loss: 0.0970 - accuracy: 0.97 - 1s 22ms/step - loss: 0.0992 - accuracy: 0.97 - 1s 22ms/step - loss: 0.0988 - accuracy: 0.97 - 1s 22ms/step - loss: 0.0982 - accuracy: 0.97 - 1s 22ms/step - loss: 0.0975 - accuracy: 0.97 - 1s 21ms/step - loss: 0.0965 - accuracy: 0.97 - 1s 21ms/step - loss: 0.0971 - accuracy: 0.97 - 1s 21ms/step - loss: 0.0964 - accuracy: 0.97 - 1s 21ms/step - loss: 0.0952 - accuracy: 0.97 - 1s 22ms/step - loss: 0.0950 - accuracy: 0.97 - 2s 22ms/step - loss: 0.0950 - accuracy: 0.97 - 2s 22ms/step - loss: 0.0939 - accuracy: 0.97 - 2s 22ms/step - loss: 0.0935 - accuracy: 0.97 - 2s 22ms/step - loss: 0.0933 - accuracy: 0.97 - 2s 22ms/step - loss: 0.0924 - accuracy: 0.97 - 2s 21ms/step - loss: 0.0913 - accuracy: 0.97 - 2s 21ms/step - loss: 0.0907 - accuracy: 0.97 - 2s 21ms/step - loss: 0.0903 - accuracy: 0.97 - 2s 21ms/step - loss: 0.0896 - accuracy: 0.97 - 2s 21ms/step - loss: 0.0886 - accuracy: 0.97 - 2s 21ms/step - loss: 0.0898 - accuracy: 0.97 - 2s 21ms/step - loss: 0.0894 - accuracy: 0.97 - 2s 21ms/step - loss: 0.0895 - accuracy: 0.97 - 2s 21ms/step - loss: 0.0887 - accuracy: 0.97 - 2s 21ms/step - loss: 0.0882 - accuracy: 0.97 - 2s 21ms/step - loss: 0.0878 - accuracy: 0.97 - 2s 21ms/step - loss: 0.0880 - accuracy: 0.97 - 2s 21ms/step - loss: 0.0872 - accuracy: 0.97 - 2s 21ms/step - loss: 0.0877 - accuracy: 0.97 - 2s 21ms/step - loss: 0.0873 - accuracy: 0.97 - 2s 21ms/step - loss: 0.0882 - accuracy: 0.97 - 2s 21ms/step - loss: 0.0884 - accuracy: 0.97 - 2s 20ms/step - loss: 0.0879 - accuracy: 0.97 - 2s 21ms/step - loss: 0.0888 - accuracy: 0.97 - 2s 21ms/step - loss: 0.0883 - accuracy: 0.97 - 2s 21ms/step - loss: 0.0875 - accuracy: 0.97 - 2s 20ms/step - loss: 0.0868 - accuracy: 0.97 - 2s 20ms/step - loss: 0.0862 - accuracy: 0.97 - 2s 20ms/step - loss: 0.0865 - accuracy: 0.97 - 2s 20ms/step - loss: 0.0859 - accuracy: 0.97 - 2s 20ms/step - loss: 0.0865 - accuracy: 0.97 - 2s 21ms/step - loss: 0.0865 - accuracy: 0.9752\n"
     ]
    }
   ],
   "source": [
    "test_loss, test_accuracy = model.evaluate(test_data)"
   ]
  },
  {
   "cell_type": "code",
   "execution_count": 14,
   "metadata": {},
   "outputs": [
    {
     "name": "stdout",
     "output_type": "stream",
     "text": [
      "Test loss: 0.09. Test accuracy: 97.52%\n"
     ]
    }
   ],
   "source": [
    "print('Test loss: {0:.2f}. Test accuracy: {1:.2f}%'.format(test_loss, test_accuracy*100.))"
   ]
  },
  {
   "cell_type": "code",
   "execution_count": 15,
   "metadata": {},
   "outputs": [],
   "source": [
    "validation_inputs = tf.Variable(validation_inputs)"
   ]
  },
  {
   "cell_type": "code",
   "execution_count": 16,
   "metadata": {},
   "outputs": [
    {
     "name": "stdout",
     "output_type": "stream",
     "text": [
      "3\n"
     ]
    },
    {
     "data": {
      "image/png": "[encoded data removed]",
      "text/plain": [
       "<Figure size 432x288 with 1 Axes>"
      ]
     },
     "metadata": {
      "needs_background": "light"
     },
     "output_type": "display_data"
    }
   ],
   "source": [
    "validation_input = tf.reshape(validation_inputs[12], (1,28, 28,1))\n",
    "\n",
    "pred = model.predict(validation_input)\n",
    "\n",
    "val_input = tf.reshape(validation_inputs[12], (28,28))\n",
    "\n",
    "plt.imshow(val_input,cmap='Greys')\n",
    "print(pred.argmax())"
   ]
  },
  {
   "cell_type": "code",
   "execution_count": null,
   "metadata": {},
   "outputs": [],
   "source": []
  }
 ],
 "metadata": {
  "kernelspec": {
   "display_name": "TensorFlow-2.0",
   "language": "python",
   "name": "py3-tf2.0"
  },
  "language_info": {
   "codemirror_mode": {
    "name": "ipython",
    "version": 3
   },
   "file_extension": ".py",
   "mimetype": "text/x-python",
   "name": "python",
   "nbconvert_exporter": "python",
   "pygments_lexer": "ipython3",
   "version": "3.7.4"
  }
 },
 "nbformat": 4,
 "nbformat_minor": 2
}
